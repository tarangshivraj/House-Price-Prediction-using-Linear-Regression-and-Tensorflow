{
  "nbformat": 4,
  "nbformat_minor": 0,
  "metadata": {
    "kernelspec": {
      "display_name": "Python 3",
      "language": "python",
      "name": "python3"
    },
    "language_info": {
      "codemirror_mode": {
        "name": "ipython",
        "version": 3
      },
      "file_extension": ".py",
      "mimetype": "text/x-python",
      "name": "python",
      "nbconvert_exporter": "python",
      "pygments_lexer": "ipython3",
      "version": "3.7.3"
    },
    "colab": {
      "name": "TensorFlow Beginner - Predicting House Prices with Regression.ipynb",
      "provenance": [],
      "collapsed_sections": []
    },
    "accelerator": "GPU"
  },
  "cells": [
    {
      "cell_type": "code",
      "metadata": {
        "id": "gQQSHmtjiI8F"
      },
      "source": [
        ""
      ],
      "execution_count": null,
      "outputs": []
    },
    {
      "cell_type": "markdown",
      "metadata": {
        "id": "ij2QXKuriHBA"
      },
      "source": [
        ""
      ]
    },
    {
      "cell_type": "markdown",
      "metadata": {
        "id": "qWT_i8DAhwEo"
      },
      "source": [
        "# Task 1: Introduction\n",
        "\n",
        "---\n",
        "\n",
        "For this project, we are going to work on evaluating price of houses given the following features:\n",
        "\n",
        "1. Year of sale of the house\n",
        "2. The age of the house at the time of sale\n",
        "3. Distance from city center\n",
        "4. Number of stores in the locality\n",
        "5. The latitude\n",
        "6. The longitude\n",
        "\n",
        "![Regression](/content/images/regression.png)\n",
        "\n",
        "Note: This notebook uses `python 3` and these packages: `tensorflow`, `pandas`, `matplotlib`, `scikit-learn`."
      ]
    },
    {
      "cell_type": "markdown",
      "metadata": {
        "id": "By_FbG-phwEw"
      },
      "source": [
        "## 1.1: Importing Libraries & Helper Functions\n",
        "\n",
        "First of all, we will need to import some libraries and helper functions. This includes TensorFlow and some utility functions that I've written to save time."
      ]
    },
    {
      "cell_type": "code",
      "metadata": {
        "colab": {
          "base_uri": "https://localhost:8080/"
        },
        "id": "__e5CRHJhwEx",
        "outputId": "b9484066-0def-41dd-80d7-f5c09f07c3b1"
      },
      "source": [
        "import pandas as pd\n",
        "import matplotlib.pyplot as plt\n",
        "import tensorflow as tf\n",
        "\n",
        "from utils import *\n",
        "from sklearn.model_selection import train_test_split\n",
        "from tensorflow.keras.models import Sequential\n",
        "from tensorflow.keras.layers import Dense, Dropout\n",
        "from tensorflow.keras.callbacks import EarlyStopping, LambdaCallback\n",
        "\n",
        "%matplotlib inline\n",
        "# tf.logging.set_verbosity(tf.logging.ERROR)\n",
        "\n",
        "print('Libraries imported.')"
      ],
      "execution_count": 2,
      "outputs": [
        {
          "output_type": "stream",
          "name": "stdout",
          "text": [
            "Libraries imported.\n"
          ]
        }
      ]
    },
    {
      "cell_type": "markdown",
      "metadata": {
        "id": "T6q_jGb9hwEy"
      },
      "source": [
        "# Task 2: Importing the Data"
      ]
    },
    {
      "cell_type": "markdown",
      "metadata": {
        "id": "pL85zO86hwEz"
      },
      "source": [
        "## 2.1: Importing the Data\n",
        "\n",
        "The dataset is saved in a `data.csv` file. We will use `pandas` to take a look at some of the rows."
      ]
    },
    {
      "cell_type": "code",
      "metadata": {
        "colab": {
          "base_uri": "https://localhost:8080/",
          "height": 206
        },
        "id": "NJLSn4yUhwEz",
        "outputId": "05e698e4-62c2-4e0b-cac1-6a6406665130"
      },
      "source": [
        "df = pd.read_csv('data.csv', names = column_names)\n",
        "df.head()"
      ],
      "execution_count": 3,
      "outputs": [
        {
          "output_type": "execute_result",
          "data": {
            "text/html": [
              "<div>\n",
              "<style scoped>\n",
              "    .dataframe tbody tr th:only-of-type {\n",
              "        vertical-align: middle;\n",
              "    }\n",
              "\n",
              "    .dataframe tbody tr th {\n",
              "        vertical-align: top;\n",
              "    }\n",
              "\n",
              "    .dataframe thead th {\n",
              "        text-align: right;\n",
              "    }\n",
              "</style>\n",
              "<table border=\"1\" class=\"dataframe\">\n",
              "  <thead>\n",
              "    <tr style=\"text-align: right;\">\n",
              "      <th></th>\n",
              "      <th>serial</th>\n",
              "      <th>date</th>\n",
              "      <th>age</th>\n",
              "      <th>distance</th>\n",
              "      <th>stores</th>\n",
              "      <th>latitude</th>\n",
              "      <th>longitude</th>\n",
              "      <th>price</th>\n",
              "    </tr>\n",
              "  </thead>\n",
              "  <tbody>\n",
              "    <tr>\n",
              "      <th>0</th>\n",
              "      <td>0</td>\n",
              "      <td>2009</td>\n",
              "      <td>21</td>\n",
              "      <td>9</td>\n",
              "      <td>6</td>\n",
              "      <td>84</td>\n",
              "      <td>121</td>\n",
              "      <td>14264</td>\n",
              "    </tr>\n",
              "    <tr>\n",
              "      <th>1</th>\n",
              "      <td>1</td>\n",
              "      <td>2007</td>\n",
              "      <td>4</td>\n",
              "      <td>2</td>\n",
              "      <td>3</td>\n",
              "      <td>86</td>\n",
              "      <td>121</td>\n",
              "      <td>12032</td>\n",
              "    </tr>\n",
              "    <tr>\n",
              "      <th>2</th>\n",
              "      <td>2</td>\n",
              "      <td>2016</td>\n",
              "      <td>18</td>\n",
              "      <td>3</td>\n",
              "      <td>7</td>\n",
              "      <td>90</td>\n",
              "      <td>120</td>\n",
              "      <td>13560</td>\n",
              "    </tr>\n",
              "    <tr>\n",
              "      <th>3</th>\n",
              "      <td>3</td>\n",
              "      <td>2002</td>\n",
              "      <td>13</td>\n",
              "      <td>2</td>\n",
              "      <td>2</td>\n",
              "      <td>80</td>\n",
              "      <td>128</td>\n",
              "      <td>12029</td>\n",
              "    </tr>\n",
              "    <tr>\n",
              "      <th>4</th>\n",
              "      <td>4</td>\n",
              "      <td>2014</td>\n",
              "      <td>25</td>\n",
              "      <td>5</td>\n",
              "      <td>8</td>\n",
              "      <td>81</td>\n",
              "      <td>122</td>\n",
              "      <td>14157</td>\n",
              "    </tr>\n",
              "  </tbody>\n",
              "</table>\n",
              "</div>"
            ],
            "text/plain": [
              "   serial  date  age  distance  stores  latitude  longitude  price\n",
              "0       0  2009   21         9       6        84        121  14264\n",
              "1       1  2007    4         2       3        86        121  12032\n",
              "2       2  2016   18         3       7        90        120  13560\n",
              "3       3  2002   13         2       2        80        128  12029\n",
              "4       4  2014   25         5       8        81        122  14157"
            ]
          },
          "metadata": {},
          "execution_count": 3
        }
      ]
    },
    {
      "cell_type": "markdown",
      "metadata": {
        "id": "EsP_Y-0VhwE0"
      },
      "source": [
        "## 2.2: Check Missing Data\n",
        "\n",
        "It's a good practice to check if the data has any missing values. In real world data, this is quite common and must be taken care of before any data pre-processing or model training."
      ]
    },
    {
      "cell_type": "code",
      "metadata": {
        "colab": {
          "base_uri": "https://localhost:8080/"
        },
        "id": "gFSrUIsJhwE0",
        "outputId": "3215615c-c93d-43d7-f6c1-ea1cc0252f9c"
      },
      "source": [
        "df.isna().sum()"
      ],
      "execution_count": 4,
      "outputs": [
        {
          "output_type": "execute_result",
          "data": {
            "text/plain": [
              "serial       0\n",
              "date         0\n",
              "age          0\n",
              "distance     0\n",
              "stores       0\n",
              "latitude     0\n",
              "longitude    0\n",
              "price        0\n",
              "dtype: int64"
            ]
          },
          "metadata": {},
          "execution_count": 4
        }
      ]
    },
    {
      "cell_type": "markdown",
      "metadata": {
        "id": "KU0yjWH9hwE1"
      },
      "source": [
        "# Task 3: Data Normalization"
      ]
    },
    {
      "cell_type": "markdown",
      "metadata": {
        "id": "-CB29eDZhwE2"
      },
      "source": [
        "## 3.1: Data Normalization\n",
        "\n",
        "We can make it easier for optimization algorithms to find minimas by normalizing the data before training a model."
      ]
    },
    {
      "cell_type": "code",
      "metadata": {
        "colab": {
          "base_uri": "https://localhost:8080/",
          "height": 206
        },
        "id": "fr-xrsMthwE2",
        "outputId": "c714fb28-195a-4231-950d-c5272d16aa56"
      },
      "source": [
        "df = df.iloc[:, 1:]\n",
        "df_norm = (df - df.mean())/df.std()\n",
        "df_norm.head() "
      ],
      "execution_count": 5,
      "outputs": [
        {
          "output_type": "execute_result",
          "data": {
            "text/html": [
              "<div>\n",
              "<style scoped>\n",
              "    .dataframe tbody tr th:only-of-type {\n",
              "        vertical-align: middle;\n",
              "    }\n",
              "\n",
              "    .dataframe tbody tr th {\n",
              "        vertical-align: top;\n",
              "    }\n",
              "\n",
              "    .dataframe thead th {\n",
              "        text-align: right;\n",
              "    }\n",
              "</style>\n",
              "<table border=\"1\" class=\"dataframe\">\n",
              "  <thead>\n",
              "    <tr style=\"text-align: right;\">\n",
              "      <th></th>\n",
              "      <th>date</th>\n",
              "      <th>age</th>\n",
              "      <th>distance</th>\n",
              "      <th>stores</th>\n",
              "      <th>latitude</th>\n",
              "      <th>longitude</th>\n",
              "      <th>price</th>\n",
              "    </tr>\n",
              "  </thead>\n",
              "  <tbody>\n",
              "    <tr>\n",
              "      <th>0</th>\n",
              "      <td>0.015978</td>\n",
              "      <td>0.181384</td>\n",
              "      <td>1.257002</td>\n",
              "      <td>0.345224</td>\n",
              "      <td>-0.307212</td>\n",
              "      <td>-1.260799</td>\n",
              "      <td>0.350088</td>\n",
              "    </tr>\n",
              "    <tr>\n",
              "      <th>1</th>\n",
              "      <td>-0.350485</td>\n",
              "      <td>-1.319118</td>\n",
              "      <td>-0.930610</td>\n",
              "      <td>-0.609312</td>\n",
              "      <td>0.325301</td>\n",
              "      <td>-1.260799</td>\n",
              "      <td>-1.836486</td>\n",
              "    </tr>\n",
              "    <tr>\n",
              "      <th>2</th>\n",
              "      <td>1.298598</td>\n",
              "      <td>-0.083410</td>\n",
              "      <td>-0.618094</td>\n",
              "      <td>0.663402</td>\n",
              "      <td>1.590328</td>\n",
              "      <td>-1.576456</td>\n",
              "      <td>-0.339584</td>\n",
              "    </tr>\n",
              "    <tr>\n",
              "      <th>3</th>\n",
              "      <td>-1.266643</td>\n",
              "      <td>-0.524735</td>\n",
              "      <td>-0.930610</td>\n",
              "      <td>-0.927491</td>\n",
              "      <td>-1.572238</td>\n",
              "      <td>0.948803</td>\n",
              "      <td>-1.839425</td>\n",
              "    </tr>\n",
              "    <tr>\n",
              "      <th>4</th>\n",
              "      <td>0.932135</td>\n",
              "      <td>0.534444</td>\n",
              "      <td>0.006938</td>\n",
              "      <td>0.981581</td>\n",
              "      <td>-1.255981</td>\n",
              "      <td>-0.945141</td>\n",
              "      <td>0.245266</td>\n",
              "    </tr>\n",
              "  </tbody>\n",
              "</table>\n",
              "</div>"
            ],
            "text/plain": [
              "       date       age  distance    stores  latitude  longitude     price\n",
              "0  0.015978  0.181384  1.257002  0.345224 -0.307212  -1.260799  0.350088\n",
              "1 -0.350485 -1.319118 -0.930610 -0.609312  0.325301  -1.260799 -1.836486\n",
              "2  1.298598 -0.083410 -0.618094  0.663402  1.590328  -1.576456 -0.339584\n",
              "3 -1.266643 -0.524735 -0.930610 -0.927491 -1.572238   0.948803 -1.839425\n",
              "4  0.932135  0.534444  0.006938  0.981581 -1.255981  -0.945141  0.245266"
            ]
          },
          "metadata": {},
          "execution_count": 5
        }
      ]
    },
    {
      "cell_type": "markdown",
      "metadata": {
        "id": "rdEG7piqhwE2"
      },
      "source": [
        "## 3.2: Convert Label Value\n",
        "\n",
        "Because we are using normalized values for the labels, we will get the predictions back from a trained model in the same distribution. So, we need to convert the predicted values back to the original distribution if we want predicted prices."
      ]
    },
    {
      "cell_type": "code",
      "metadata": {
        "colab": {
          "base_uri": "https://localhost:8080/"
        },
        "id": "TGAoMPxahwE3",
        "outputId": "0e5ec378-ec1a-4913-81ed-c22ca3e19422"
      },
      "source": [
        "y_mean = df['price'].mean()\n",
        "y_std = df['price'].std()\n",
        "\n",
        "def convert_label_value(pred):\n",
        "  return int(pred * y_std + y_mean)\n",
        "\n",
        "print(convert_label_value(0.350088))"
      ],
      "execution_count": 6,
      "outputs": [
        {
          "output_type": "stream",
          "name": "stdout",
          "text": [
            "14263\n"
          ]
        }
      ]
    },
    {
      "cell_type": "markdown",
      "metadata": {
        "id": "5C5_lvG3hwE3"
      },
      "source": [
        "# Task 4: Create Training and Test Sets"
      ]
    },
    {
      "cell_type": "markdown",
      "metadata": {
        "id": "HtVSVKjGhwE4"
      },
      "source": [
        "## 4.1: Select Features\n",
        "\n",
        "Make sure to remove the column __price__ from the list of features as it is the label and should not be used as a feature."
      ]
    },
    {
      "cell_type": "code",
      "metadata": {
        "colab": {
          "base_uri": "https://localhost:8080/",
          "height": 206
        },
        "id": "v_hC5wc_hwE4",
        "outputId": "16e89f8f-1e06-4121-8663-f986b05c3b50"
      },
      "source": [
        "x = df.iloc[:, :6]\n",
        "x.head()"
      ],
      "execution_count": 7,
      "outputs": [
        {
          "output_type": "execute_result",
          "data": {
            "text/html": [
              "<div>\n",
              "<style scoped>\n",
              "    .dataframe tbody tr th:only-of-type {\n",
              "        vertical-align: middle;\n",
              "    }\n",
              "\n",
              "    .dataframe tbody tr th {\n",
              "        vertical-align: top;\n",
              "    }\n",
              "\n",
              "    .dataframe thead th {\n",
              "        text-align: right;\n",
              "    }\n",
              "</style>\n",
              "<table border=\"1\" class=\"dataframe\">\n",
              "  <thead>\n",
              "    <tr style=\"text-align: right;\">\n",
              "      <th></th>\n",
              "      <th>date</th>\n",
              "      <th>age</th>\n",
              "      <th>distance</th>\n",
              "      <th>stores</th>\n",
              "      <th>latitude</th>\n",
              "      <th>longitude</th>\n",
              "    </tr>\n",
              "  </thead>\n",
              "  <tbody>\n",
              "    <tr>\n",
              "      <th>0</th>\n",
              "      <td>2009</td>\n",
              "      <td>21</td>\n",
              "      <td>9</td>\n",
              "      <td>6</td>\n",
              "      <td>84</td>\n",
              "      <td>121</td>\n",
              "    </tr>\n",
              "    <tr>\n",
              "      <th>1</th>\n",
              "      <td>2007</td>\n",
              "      <td>4</td>\n",
              "      <td>2</td>\n",
              "      <td>3</td>\n",
              "      <td>86</td>\n",
              "      <td>121</td>\n",
              "    </tr>\n",
              "    <tr>\n",
              "      <th>2</th>\n",
              "      <td>2016</td>\n",
              "      <td>18</td>\n",
              "      <td>3</td>\n",
              "      <td>7</td>\n",
              "      <td>90</td>\n",
              "      <td>120</td>\n",
              "    </tr>\n",
              "    <tr>\n",
              "      <th>3</th>\n",
              "      <td>2002</td>\n",
              "      <td>13</td>\n",
              "      <td>2</td>\n",
              "      <td>2</td>\n",
              "      <td>80</td>\n",
              "      <td>128</td>\n",
              "    </tr>\n",
              "    <tr>\n",
              "      <th>4</th>\n",
              "      <td>2014</td>\n",
              "      <td>25</td>\n",
              "      <td>5</td>\n",
              "      <td>8</td>\n",
              "      <td>81</td>\n",
              "      <td>122</td>\n",
              "    </tr>\n",
              "  </tbody>\n",
              "</table>\n",
              "</div>"
            ],
            "text/plain": [
              "   date  age  distance  stores  latitude  longitude\n",
              "0  2009   21         9       6        84        121\n",
              "1  2007    4         2       3        86        121\n",
              "2  2016   18         3       7        90        120\n",
              "3  2002   13         2       2        80        128\n",
              "4  2014   25         5       8        81        122"
            ]
          },
          "metadata": {},
          "execution_count": 7
        }
      ]
    },
    {
      "cell_type": "markdown",
      "metadata": {
        "id": "NCON5hskhwE4"
      },
      "source": [
        "## 4.2: Select Labels"
      ]
    },
    {
      "cell_type": "code",
      "metadata": {
        "colab": {
          "base_uri": "https://localhost:8080/"
        },
        "id": "Doah7EpfhwE5",
        "outputId": "cb74544d-b65b-4aa3-8c21-2e37239a2fb5"
      },
      "source": [
        "y = df.iloc[:, -1]\n",
        "y.head()"
      ],
      "execution_count": 8,
      "outputs": [
        {
          "output_type": "execute_result",
          "data": {
            "text/plain": [
              "0    14264\n",
              "1    12032\n",
              "2    13560\n",
              "3    12029\n",
              "4    14157\n",
              "Name: price, dtype: int64"
            ]
          },
          "metadata": {},
          "execution_count": 8
        }
      ]
    },
    {
      "cell_type": "markdown",
      "metadata": {
        "id": "51B6IJrThwE5"
      },
      "source": [
        "## 4.3: Feature and Label Values\n",
        "\n",
        "We will need to extract just the numeric values for the features and labels as the TensorFlow model will expect just numeric values as input."
      ]
    },
    {
      "cell_type": "code",
      "metadata": {
        "colab": {
          "base_uri": "https://localhost:8080/"
        },
        "id": "FEt8KID7hwE5",
        "outputId": "bfa702d7-2ef0-4b47-cd40-93ad0081aba5"
      },
      "source": [
        "x_arr = x.values\n",
        "y_arr = y.values\n",
        "\n",
        "print(\"Feature Array Shape is {} and the Label Array Shape is {}\".format(x_arr.shape, y_arr.shape))"
      ],
      "execution_count": 10,
      "outputs": [
        {
          "output_type": "stream",
          "name": "stdout",
          "text": [
            "Feature Array Shape is (5000, 6) and the Label Array Shape is (5000,)\n"
          ]
        }
      ]
    },
    {
      "cell_type": "markdown",
      "metadata": {
        "id": "o9l9slm2hwE6"
      },
      "source": [
        "## 4.4: Train and Test Split\n",
        "\n",
        "We will keep some part of the data aside as a __test__ set. The model will not use this set during training and it will be used only for checking the performance of the model in trained and un-trained states. This way, we can make sure that we are going in the right direction with our model training."
      ]
    },
    {
      "cell_type": "code",
      "metadata": {
        "colab": {
          "base_uri": "https://localhost:8080/"
        },
        "id": "FBOJJvGOhwE6",
        "outputId": "7f4157a8-fbac-4023-83fc-41b4e7363aff"
      },
      "source": [
        "x_train, x_test, y_train, y_test = train_test_split(x_arr, y_arr, test_size=0.05, random_state=0)\n",
        "\n",
        "print(\"Training Dataset Shape is {} and the Testing Dataset Shape is {}\".format(x_train.shape, x_test.shape))"
      ],
      "execution_count": 12,
      "outputs": [
        {
          "output_type": "stream",
          "name": "stdout",
          "text": [
            "Training Dataset Shape is (4750, 6) and the Testing Dataset Shape is (250, 6)\n"
          ]
        }
      ]
    },
    {
      "cell_type": "markdown",
      "metadata": {
        "id": "ywXq5WxehwE6"
      },
      "source": [
        "# Task 5: Create the Model"
      ]
    },
    {
      "cell_type": "markdown",
      "metadata": {
        "id": "sCivtD9uhwE7"
      },
      "source": [
        "## 5.1: Create the Model\n",
        "\n",
        "Let's write a function that returns an untrained model of a certain architecture."
      ]
    },
    {
      "cell_type": "code",
      "metadata": {
        "colab": {
          "base_uri": "https://localhost:8080/"
        },
        "id": "WIgyXerdhwE7",
        "outputId": "452d7156-5c39-4c87-fc14-ad6e3b7fb2e7"
      },
      "source": [
        "def get_model():\n",
        "  model = Sequential([\n",
        "      Dense(10, input_shape=(6,), activation='relu'),\n",
        "      Dense(20, activation='relu'),\n",
        "      Dense(5, activation='relu'),\n",
        "      Dense(1)\n",
        "  ])\n",
        "\n",
        "  model.compile(\n",
        "      loss='mse',\n",
        "      optimizer='adam'\n",
        "  )\n",
        "\n",
        "  return model\n",
        "\n",
        "get_model().summary()"
      ],
      "execution_count": 18,
      "outputs": [
        {
          "output_type": "stream",
          "name": "stdout",
          "text": [
            "Model: \"sequential_1\"\n",
            "_________________________________________________________________\n",
            " Layer (type)                Output Shape              Param #   \n",
            "=================================================================\n",
            " dense_18 (Dense)            (None, 10)                70        \n",
            "                                                                 \n",
            " dense_19 (Dense)            (None, 20)                220       \n",
            "                                                                 \n",
            " dense_20 (Dense)            (None, 5)                 105       \n",
            "                                                                 \n",
            " dense_21 (Dense)            (None, 1)                 6         \n",
            "                                                                 \n",
            "=================================================================\n",
            "Total params: 401\n",
            "Trainable params: 401\n",
            "Non-trainable params: 0\n",
            "_________________________________________________________________\n"
          ]
        }
      ]
    },
    {
      "cell_type": "code",
      "metadata": {
        "id": "ECw3ywaWm7am"
      },
      "source": [
        ""
      ],
      "execution_count": null,
      "outputs": []
    },
    {
      "cell_type": "markdown",
      "metadata": {
        "id": "EiVQCsu5hwE7"
      },
      "source": [
        "# Task 6: Model Training"
      ]
    },
    {
      "cell_type": "markdown",
      "metadata": {
        "id": "BOCAnyfahwE7"
      },
      "source": [
        "## 6.1: Model Training\n",
        "\n",
        "We can use an `EarlyStopping` callback from Keras to stop the model training if the validation loss stops decreasing for a few epochs."
      ]
    },
    {
      "cell_type": "code",
      "metadata": {
        "colab": {
          "base_uri": "https://localhost:8080/"
        },
        "id": "puxm2NtFhwE8",
        "outputId": "e1e1d9f8-5147-4f78-80c7-270034e3d3c6"
      },
      "source": [
        "model = get_model()\n",
        "\n",
        "predictions_on_untrained_model = model.predict(x_test)\n",
        "\n",
        "history = model.fit(\n",
        "    x_train, \n",
        "    y_train, \n",
        "    validation_data = (x_test, y_test),\n",
        "    epochs = 30\n",
        ")"
      ],
      "execution_count": 25,
      "outputs": [
        {
          "output_type": "stream",
          "name": "stdout",
          "text": [
            "Epoch 1/30\n",
            "149/149 [==============================] - 1s 5ms/step - loss: 148518256.0000 - val_loss: 82622104.0000\n",
            "Epoch 2/30\n",
            "149/149 [==============================] - 1s 4ms/step - loss: 23750680.0000 - val_loss: 910715.7500\n",
            "Epoch 3/30\n",
            "149/149 [==============================] - 1s 4ms/step - loss: 1006269.2500 - val_loss: 864405.5625\n",
            "Epoch 4/30\n",
            "149/149 [==============================] - 1s 4ms/step - loss: 1001217.3750 - val_loss: 857065.2500\n",
            "Epoch 5/30\n",
            "149/149 [==============================] - 1s 4ms/step - loss: 996541.0625 - val_loss: 854403.8125\n",
            "Epoch 6/30\n",
            "149/149 [==============================] - 1s 4ms/step - loss: 989901.6875 - val_loss: 846822.8750\n",
            "Epoch 7/30\n",
            "149/149 [==============================] - 1s 4ms/step - loss: 983814.1250 - val_loss: 842670.8750\n",
            "Epoch 8/30\n",
            "149/149 [==============================] - 1s 4ms/step - loss: 977469.0000 - val_loss: 836235.9375\n",
            "Epoch 9/30\n",
            "149/149 [==============================] - 1s 4ms/step - loss: 967934.9375 - val_loss: 841798.5000\n",
            "Epoch 10/30\n",
            "149/149 [==============================] - 1s 4ms/step - loss: 962685.3750 - val_loss: 821896.5000\n",
            "Epoch 11/30\n",
            "149/149 [==============================] - 1s 4ms/step - loss: 952606.5000 - val_loss: 815234.6250\n",
            "Epoch 12/30\n",
            "149/149 [==============================] - 1s 4ms/step - loss: 942415.1250 - val_loss: 804439.7500\n",
            "Epoch 13/30\n",
            "149/149 [==============================] - 1s 4ms/step - loss: 931422.8750 - val_loss: 795838.8125\n",
            "Epoch 14/30\n",
            "149/149 [==============================] - 1s 4ms/step - loss: 921732.8750 - val_loss: 786713.5625\n",
            "Epoch 15/30\n",
            "149/149 [==============================] - 1s 4ms/step - loss: 910922.2500 - val_loss: 780750.7500\n",
            "Epoch 16/30\n",
            "149/149 [==============================] - 1s 4ms/step - loss: 898979.6250 - val_loss: 785881.6250\n",
            "Epoch 17/30\n",
            "149/149 [==============================] - 1s 4ms/step - loss: 887154.4375 - val_loss: 763504.5625\n",
            "Epoch 18/30\n",
            "149/149 [==============================] - 1s 4ms/step - loss: 873436.1250 - val_loss: 746752.8125\n",
            "Epoch 19/30\n",
            "149/149 [==============================] - 1s 4ms/step - loss: 862638.3125 - val_loss: 738769.9375\n",
            "Epoch 20/30\n",
            "149/149 [==============================] - 1s 4ms/step - loss: 848467.6875 - val_loss: 725597.9375\n",
            "Epoch 21/30\n",
            "149/149 [==============================] - 1s 4ms/step - loss: 837378.4375 - val_loss: 713607.5625\n",
            "Epoch 22/30\n",
            "149/149 [==============================] - 1s 4ms/step - loss: 822455.7500 - val_loss: 702100.5000\n",
            "Epoch 23/30\n",
            "149/149 [==============================] - 1s 4ms/step - loss: 808186.1250 - val_loss: 690334.0625\n",
            "Epoch 24/30\n",
            "149/149 [==============================] - 1s 5ms/step - loss: 795169.8125 - val_loss: 687301.6875\n",
            "Epoch 25/30\n",
            "149/149 [==============================] - 1s 4ms/step - loss: 779447.0000 - val_loss: 667582.5625\n",
            "Epoch 26/30\n",
            "149/149 [==============================] - 1s 4ms/step - loss: 765706.9375 - val_loss: 654118.8125\n",
            "Epoch 27/30\n",
            "149/149 [==============================] - 1s 4ms/step - loss: 749788.2500 - val_loss: 651713.2500\n",
            "Epoch 28/30\n",
            "149/149 [==============================] - 1s 4ms/step - loss: 734838.2500 - val_loss: 631537.1875\n",
            "Epoch 29/30\n",
            "149/149 [==============================] - 1s 4ms/step - loss: 719679.6875 - val_loss: 648174.6250\n",
            "Epoch 30/30\n",
            "149/149 [==============================] - 1s 4ms/step - loss: 705892.8750 - val_loss: 608368.3750\n"
          ]
        }
      ]
    },
    {
      "cell_type": "markdown",
      "metadata": {
        "id": "cm2vTeKNhwE8"
      },
      "source": [
        "## 6.2: Plot Training and Validation Loss\n",
        "\n",
        "Let's use the `plot_loss` helper function to take a look training and validation loss."
      ]
    },
    {
      "cell_type": "code",
      "metadata": {
        "colab": {
          "base_uri": "https://localhost:8080/",
          "height": 508
        },
        "id": "pEFjCD-PhwE8",
        "outputId": "82eda643-bafb-405b-a69c-a1d4da7578a6"
      },
      "source": [
        "plot_loss(history)"
      ],
      "execution_count": 26,
      "outputs": [
        {
          "output_type": "display_data",
          "data": {
            "image/png": "[encoded data removed]",
            "text/plain": [
              "<Figure size 576x576 with 1 Axes>"
            ]
          },
          "metadata": {
            "needs_background": "light"
          }
        }
      ]
    },
    {
      "cell_type": "markdown",
      "metadata": {
        "id": "z797PGk7hwE8"
      },
      "source": [
        "# Task 7: Predictions"
      ]
    },
    {
      "cell_type": "markdown",
      "metadata": {
        "id": "CMApvNHRhwE8"
      },
      "source": [
        "## 7.1: Plot Raw Predictions\n",
        "\n",
        "Let's use the `compare_predictions` helper function to compare predictions from the model when it was untrained and when it was trained."
      ]
    },
    {
      "cell_type": "code",
      "metadata": {
        "id": "ezFMyiwjhwE9"
      },
      "source": [
        "predictions_on_trained_model = model.predict(x_test)\n"
      ],
      "execution_count": 27,
      "outputs": []
    },
    {
      "cell_type": "code",
      "metadata": {
        "colab": {
          "base_uri": "https://localhost:8080/",
          "height": 552
        },
        "id": "EOUKOXCUpRda",
        "outputId": "b4a09f07-3a94-44f2-e97c-91510b80a3d8"
      },
      "source": [
        "compare_predictions(predictions_on_trained_model, predictions_on_untrained_model, y_test)"
      ],
      "execution_count": 29,
      "outputs": [
        {
          "output_type": "stream",
          "name": "stderr",
          "text": [
            "/usr/local/lib/python3.7/dist-packages/numpy/core/_asarray.py:136: VisibleDeprecationWarning: Creating an ndarray from ragged nested sequences (which is a list-or-tuple of lists-or-tuples-or ndarrays with different lengths or shapes) is deprecated. If you meant to do this, you must specify 'dtype=object' when creating the ndarray\n",
            "  return array(a, dtype, copy=False, order=order, subok=True)\n"
          ]
        },
        {
          "output_type": "display_data",
          "data": {
            "image/png": "[encoded data removed]",
            "text/plain": [
              "<Figure size 576x576 with 1 Axes>"
            ]
          },
          "metadata": {
            "needs_background": "light"
          }
        }
      ]
    },
    {
      "cell_type": "markdown",
      "metadata": {
        "id": "vpJ-R2jthwE9"
      },
      "source": [
        "## 7.2: Plot Price Predictions\n",
        "\n",
        "The plot for price predictions and raw predictions will look the same with just one difference: The x and y axis scale is changed."
      ]
    },
    {
      "cell_type": "code",
      "metadata": {
        "colab": {
          "base_uri": "https://localhost:8080/",
          "height": 508
        },
        "id": "3mmfH04lhwE9",
        "outputId": "aa72ede9-3db6-4fe7-a652-29a99ce07765"
      },
      "source": [
        "price_untrained = [convert_label_value(y) for y in predictions_on_untrained_model]\n",
        "price_trained = [convert_label_value(y) for y in predictions_on_trained_model]\n",
        "price_test = [convert_label_value(y) for y in y_test]\n",
        "\n",
        "compare_predictions(price_untrained, price_trained, price_test)"
      ],
      "execution_count": 31,
      "outputs": [
        {
          "output_type": "display_data",
          "data": {
            "image/png": "[encoded data removed]",
            "text/plain": [
              "<Figure size 576x576 with 1 Axes>"
            ]
          },
          "metadata": {
            "needs_background": "light"
          }
        }
      ]
    }
  ]
}